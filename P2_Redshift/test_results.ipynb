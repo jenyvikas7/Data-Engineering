{
 "cells": [
  {
   "cell_type": "code",
   "execution_count": 2,
   "metadata": {
    "editable": true
   },
   "outputs": [
    {
     "name": "stdout",
     "output_type": "stream",
     "text": [
      "Printing Cluster related properties\n",
      "                    Param               Value\n",
      "0        DWH_CLUSTER_TYPE          multi-node\n",
      "1           DWH_NUM_NODES                   2\n",
      "2           DWH_NODE_TYPE           dc2.large\n",
      "3  DWH_CLUSTER_IDENTIFIER  redshift-cluster-1\n",
      "4                  DWH_DB                 dev\n",
      "5             DWH_DB_USER                 dev\n",
      "6         DWH_DB_PASSWORD            Passw0rd\n",
      "7                DWH_PORT                5439\n",
      "8        DWH_IAM_ROLENAME      myRedshiftRole\n",
      "DWH_ENDPOINT ::  redshift-cluster-1.c4fow9r7dzf9.us-west-2.redshift.amazonaws.com\n",
      "Successfully updated DWH Endpoint in dwh.cfg file\n",
      "Connected\n"
     ]
    }
   ],
   "source": [
    "%run get_cluster_details.py"
   ]
  },
  {
   "cell_type": "code",
   "execution_count": 3,
   "metadata": {
    "editable": true
   },
   "outputs": [
    {
     "name": "stdout",
     "output_type": "stream",
     "text": [
      "dropping the table with query: DROP TABLE IF EXISTS staging_events;\n",
      "dropping the table with query: DROP TABLE IF EXISTS staging_songs;\n",
      "dropping the table with query: DROP TABLE IF EXISTS songplays;\n",
      "dropping the table with query: DROP TABLE IF EXISTS users;\n",
      "dropping the table with query: DROP TABLE IF EXISTS songs;\n",
      "dropping the table with query: DROP TABLE IF EXISTS artists;\n",
      "dropping the table with query: DROP TABLE IF EXISTS time;\n",
      "creating the table with query: \n",
      "      CREATE TABLE staging_events(\n",
      "        artist              VARCHAR,\n",
      "        auth                VARCHAR,\n",
      "        firstName           VARCHAR,\n",
      "        gender              VARCHAR,\n",
      "        itemInSession       INTEGER,\n",
      "        lastName            VARCHAR,\n",
      "        length              FLOAT,\n",
      "        level               VARCHAR,\n",
      "        location            VARCHAR,\n",
      "        method              VARCHAR,\n",
      "        page                VARCHAR,\n",
      "        registration        FLOAT,\n",
      "        sessionId           INTEGER,\n",
      "        song                VARCHAR,\n",
      "        status              INTEGER,\n",
      "        ts                  TIMESTAMP,\n",
      "        userAgent           VARCHAR,\n",
      "        userId              INTEGER \n",
      "    )\n",
      "\n",
      "creating the table with query: \n",
      "     CREATE TABLE staging_songs(\n",
      "        num_songs           INTEGER,\n",
      "        artist_id           VARCHAR,\n",
      "        artist_latitude     FLOAT,\n",
      "        artist_longitude    FLOAT,\n",
      "        artist_location     VARCHAR,\n",
      "        artist_name         VARCHAR,\n",
      "        song_id             VARCHAR,\n",
      "        title               VARCHAR,\n",
      "        duration            FLOAT,\n",
      "        year                INTEGER\n",
      "    )\n",
      "\n",
      "creating the table with query: \n",
      "    CREATE TABLE songplays(\n",
      "        songplay_id         INTEGER         IDENTITY(0,1)   PRIMARY KEY,\n",
      "        start_time          TIMESTAMP       NOT NULL SORTKEY DISTKEY,\n",
      "        user_id             INTEGER         NOT NULL,\n",
      "        level               VARCHAR,\n",
      "        song_id             VARCHAR         NOT NULL,\n",
      "        artist_id           VARCHAR         NOT NULL,\n",
      "        session_id          INTEGER,\n",
      "        location            VARCHAR,\n",
      "        user_agent          VARCHAR\n",
      "    )\n",
      "\n",
      "creating the table with query: \n",
      "     CREATE TABLE users(\n",
      "        user_id             INTEGER         NOT NULL SORTKEY PRIMARY KEY,\n",
      "        first_name          VARCHAR         NOT NULL,\n",
      "        last_name           VARCHAR         NOT NULL,\n",
      "        gender              VARCHAR         NOT NULL,\n",
      "        level               VARCHAR         NOT NULL\n",
      "    )\n",
      "\n",
      "creating the table with query: \n",
      "    CREATE TABLE songs(\n",
      "        song_id             VARCHAR         NOT NULL SORTKEY PRIMARY KEY,\n",
      "        title               VARCHAR         NOT NULL,\n",
      "        artist_id           VARCHAR         NOT NULL,\n",
      "        year                INTEGER         NOT NULL,\n",
      "        duration            FLOAT\n",
      "    )\n",
      "\n",
      "creating the table with query: \n",
      "    CREATE TABLE artists(\n",
      "        artist_id           VARCHAR         NOT NULL SORTKEY PRIMARY KEY,\n",
      "        name                VARCHAR         NOT NULL,\n",
      "        location            VARCHAR,\n",
      "        latitude            FLOAT,\n",
      "        longitude           FLOAT\n",
      "    )\n",
      "\n",
      "creating the table with query: \n",
      "    CREATE TABLE time(\n",
      "        start_time          TIMESTAMP       NOT NULL DISTKEY SORTKEY PRIMARY KEY,\n",
      "        hour                INTEGER         NOT NULL,\n",
      "        day                 INTEGER         NOT NULL,\n",
      "        week                INTEGER         NOT NULL,\n",
      "        month               INTEGER         NOT NULL,\n",
      "        year                INTEGER         NOT NULL,\n",
      "        weekday             VARCHAR(20)     NOT NULL\n",
      "    )\n",
      "\n"
     ]
    }
   ],
   "source": [
    "%run create_tables.py"
   ]
  },
  {
   "cell_type": "code",
   "execution_count": 4,
   "metadata": {
    "editable": true
   },
   "outputs": [
    {
     "name": "stdout",
     "output_type": "stream",
     "text": [
      "staging the data: \n",
      "    copy staging_events from 's3://udacity-dend/log_data'\n",
      "    credentials 'aws_iam_role=arn:aws:iam::225210597203:role/myRedshiftRole'\n",
      "    region 'us-west-2' format as JSON 's3://udacity-dend/log_json_path.json'\n",
      "    timeformat as 'epochmillisecs';\n",
      "\n",
      "staging the data: \n",
      "    copy staging_songs from 's3://udacity-dend/song_data'\n",
      "    credentials 'aws_iam_role=arn:aws:iam::225210597203:role/myRedshiftRole'\n",
      "    region 'us-west-2' format as JSON 'auto';\n",
      "\n",
      "inserting in table \n",
      "    INSERT INTO users (user_id, first_name, last_name, gender, level)\n",
      "    SELECT  DISTINCT(userId),\n",
      "            firstName,\n",
      "            lastName,\n",
      "            gender,\n",
      "            level\n",
      "    FROM staging_events\n",
      "    WHERE userId IS NOT NULL\n",
      "    AND page  =  'NextSong';\n",
      "\n",
      "inserting in table \n",
      "    INSERT INTO songplays (start_time, user_id, level, song_id, artist_id, session_id, location, user_agent)\n",
      "    SELECT  DISTINCT(e.ts), \n",
      "            e.userId, \n",
      "            e.level,\n",
      "            s.song_id, \n",
      "            s.artist_id, \n",
      "            e.sessionId, \n",
      "            e.location, \n",
      "            e.userAgent\n",
      "    FROM staging_events e\n",
      "    JOIN staging_songs  s   ON (e.song = s.title AND e.artist = s.artist_name)\n",
      "    AND e.page  =  'NextSong'\n",
      "\n",
      "inserting in table \n",
      "    INSERT INTO songs (song_id, title, artist_id, year, duration)\n",
      "    SELECT  DISTINCT(song_id),\n",
      "            title,\n",
      "            artist_id,\n",
      "            year,\n",
      "            duration\n",
      "    FROM staging_songs\n",
      "    WHERE song_id IS NOT NULL;\n",
      "\n",
      "inserting in table \n",
      "    INSERT INTO artists (artist_id, name, location, latitude, longitude)\n",
      "    SELECT  DISTINCT(artist_id),\n",
      "            artist_name,\n",
      "            artist_location,\n",
      "            artist_latitude,\n",
      "            artist_longitude\n",
      "    FROM staging_songs\n",
      "    WHERE artist_id IS NOT NULL;\n",
      "\n",
      "inserting in table \n",
      "    INSERT INTO time (start_time, hour, day, week, month, year, weekday)\n",
      "    SELECT  DISTINCT(start_time),\n",
      "            EXTRACT(hour FROM start_time),\n",
      "            EXTRACT(day FROM start_time),\n",
      "            EXTRACT(week FROM start_time),\n",
      "            EXTRACT(month FROM start_time),\n",
      "            EXTRACT(year FROM start_time),\n",
      "            EXTRACT(dayofweek FROM start_time)\n",
      "    FROM songplays;\n",
      "\n"
     ]
    }
   ],
   "source": [
    "%run etl.py"
   ]
  },
  {
   "cell_type": "code",
   "execution_count": 11,
   "metadata": {
    "editable": true
   },
   "outputs": [
    {
     "name": "stdout",
     "output_type": "stream",
     "text": [
      "\n",
      "    SELECT COUNT(*) FROM staging_events\n",
      " retuns 8056 records\n",
      "\n",
      "    SELECT COUNT(*) FROM staging_songs\n",
      " retuns 14896 records\n",
      "\n",
      "    SELECT COUNT(*) FROM songplays\n",
      " retuns 333 records\n",
      "\n",
      "    SELECT COUNT(*) FROM users\n",
      " retuns 104 records\n",
      "\n",
      "    SELECT COUNT(*) FROM songs\n",
      " retuns 14896 records\n",
      "\n",
      "    SELECT COUNT(*) FROM artists\n",
      " retuns 10025 records\n",
      "\n",
      "    SELECT COUNT(*) FROM time\n",
      " retuns 333 records\n"
     ]
    }
   ],
   "source": [
    "%run test.py"
   ]
  },
  {
   "cell_type": "code",
   "execution_count": null,
   "metadata": {
    "editable": true
   },
   "outputs": [],
   "source": []
  }
 ],
 "metadata": {
  "kernelspec": {
   "display_name": "Python 3",
   "language": "python",
   "name": "python3"
  },
  "language_info": {
   "codemirror_mode": {
    "name": "ipython",
    "version": 3
   },
   "file_extension": ".py",
   "mimetype": "text/x-python",
   "name": "python",
   "nbconvert_exporter": "python",
   "pygments_lexer": "ipython3",
   "version": "3.6.3"
  }
 },
 "nbformat": 4,
 "nbformat_minor": 4
}
