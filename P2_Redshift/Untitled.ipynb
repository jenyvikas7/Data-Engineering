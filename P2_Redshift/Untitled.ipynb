{
 "cells": [
  {
   "cell_type": "code",
   "execution_count": 30,
   "metadata": {
    "editable": true
   },
   "outputs": [
    {
     "name": "stdout",
     "output_type": "stream",
     "text": [
      "dwh.cfg file successfully read\n",
      "Dataframe for Cluster related properties\n",
      "                    Param               Value\n",
      "0        DWH_CLUSTER_TYPE          multi-node\n",
      "1           DWH_NUM_NODES                   2\n",
      "2           DWH_NODE_TYPE           dc2.large\n",
      "3  DWH_CLUSTER_IDENTIFIER  redshift-cluster-1\n",
      "4                  DWH_DB                 dev\n",
      "5             DWH_DB_USER                 dev\n",
      "6         DWH_DB_PASSWORD            Passw0rd\n",
      "7                DWH_PORT                5439\n",
      "8        DWH_IAM_ROLENAME      myRedshiftRole\n",
      "Creating a new IAM Role\n",
      "IAM role created\n",
      "Attaching Policy\n",
      "Policy successfully attached\n",
      "Get the IAM role ARN\n",
      "arn:aws:iam::225210597203:role/myRedshiftRole\n",
      "IAM role ARN retrieved\n",
      "Setting the value of IAM Role ARN in dwh.cfg file\n",
      "Successfully updated the value of IAM Role ARN in dwh.cfg file\n",
      "Redshift Cluster successfully created\n"
     ]
    }
   ],
   "source": [
    "%run create_redshift_cluster.py"
   ]
  },
  {
   "cell_type": "code",
   "execution_count": 33,
   "metadata": {
    "editable": true
   },
   "outputs": [
    {
     "name": "stdout",
     "output_type": "stream",
     "text": [
      "Printing Cluster related properties\n",
      "                    Param               Value\n",
      "0        DWH_CLUSTER_TYPE          multi-node\n",
      "1           DWH_NUM_NODES                   2\n",
      "2           DWH_NODE_TYPE           dc2.large\n",
      "3  DWH_CLUSTER_IDENTIFIER  redshift-cluster-1\n",
      "4                  DWH_DB                 dev\n",
      "5             DWH_DB_USER                 dev\n",
      "6         DWH_DB_PASSWORD            Passw0rd\n",
      "7                DWH_PORT                5439\n",
      "8        DWH_IAM_ROLENAME      myRedshiftRole\n",
      "DWH_ENDPOINT ::  redshift-cluster-1.c4fow9r7dzf9.us-west-2.redshift.amazonaws.com\n",
      "Successfully updated DWH Endpoint in dwh.cfg file\n",
      "ec2.SecurityGroup(id='sg-0ec3945a')\n",
      "An error occurred (InvalidPermission.Duplicate) when calling the AuthorizeSecurityGroupIngress operation: the specified rule \"peer: 0.0.0.0/0, TCP, from port: 5439, to port: 5439, ALLOW\" already exists\n",
      "Connected\n"
     ]
    }
   ],
   "source": [
    "%run get_cluster_endpoint.py"
   ]
  },
  {
   "cell_type": "code",
   "execution_count": 48,
   "metadata": {
    "editable": true
   },
   "outputs": [
    {
     "name": "stdout",
     "output_type": "stream",
     "text": [
      "dropping the table with query: DROP TABLE IF EXISTS staging_events;\n",
      "dropping the table with query: DROP TABLE IF EXISTS staging_songs;\n",
      "dropping the table with query: DROP TABLE IF EXISTS songplays;\n",
      "dropping the table with query: DROP TABLE IF EXISTS users;\n",
      "dropping the table with query: DROP TABLE IF EXISTS songs;\n",
      "dropping the table with query: DROP TABLE IF EXISTS artists;\n",
      "dropping the table with query: DROP TABLE IF EXISTS time;\n",
      "creating the table with query: \n",
      "      CREATE TABLE staging_events(\n",
      "        artist              VARCHAR,\n",
      "        auth                VARCHAR,\n",
      "        firstName           VARCHAR,\n",
      "        gender              VARCHAR,\n",
      "        itemInSession       INTEGER,\n",
      "        lastName            VARCHAR,\n",
      "        length              FLOAT,\n",
      "        level               VARCHAR,\n",
      "        location            VARCHAR,\n",
      "        method              VARCHAR,\n",
      "        page                VARCHAR,\n",
      "        registration        FLOAT,\n",
      "        sessionId           INTEGER,\n",
      "        song                VARCHAR,\n",
      "        status              INTEGER,\n",
      "        ts                  TIMESTAMP,\n",
      "        userAgent           VARCHAR,\n",
      "        userId              INTEGER \n",
      "    )\n",
      "\n",
      "creating the table with query: \n",
      "     CREATE TABLE staging_songs(\n",
      "        num_songs           INTEGER,\n",
      "        artist_id           VARCHAR,\n",
      "        artist_latitude     FLOAT,\n",
      "        artist_longitude    FLOAT,\n",
      "        artist_location     VARCHAR,\n",
      "        artist_name         VARCHAR,\n",
      "        song_id             VARCHAR,\n",
      "        title               VARCHAR,\n",
      "        duration            FLOAT,\n",
      "        year                INTEGER\n",
      "    )\n",
      "\n",
      "creating the table with query: \n",
      "    CREATE TABLE songplays(\n",
      "        songplay_id         INTEGER         IDENTITY(0,1)   PRIMARY KEY,\n",
      "        start_time          TIMESTAMP       NOT NULL SORTKEY DISTKEY,\n",
      "        user_id             INTEGER         NOT NULL,\n",
      "        level               VARCHAR,\n",
      "        song_id             VARCHAR         NOT NULL,\n",
      "        artist_id           VARCHAR         NOT NULL,\n",
      "        session_id          INTEGER,\n",
      "        location            VARCHAR,\n",
      "        user_agent          VARCHAR\n",
      "    )\n",
      "\n",
      "creating the table with query: \n",
      "     CREATE TABLE users(\n",
      "        user_id             INTEGER         NOT NULL SORTKEY PRIMARY KEY,\n",
      "        first_name          VARCHAR         NOT NULL,\n",
      "        last_name           VARCHAR         NOT NULL,\n",
      "        gender              VARCHAR         NOT NULL,\n",
      "        level               VARCHAR         NOT NULL\n",
      "    )\n",
      "\n",
      "creating the table with query: \n",
      "    CREATE TABLE songs(\n",
      "        song_id             VARCHAR         NOT NULL SORTKEY PRIMARY KEY,\n",
      "        title               VARCHAR         NOT NULL,\n",
      "        artist_id           VARCHAR         NOT NULL,\n",
      "        year                INTEGER         NOT NULL,\n",
      "        duration            FLOAT\n",
      "    )\n",
      "\n",
      "creating the table with query: \n",
      "    CREATE TABLE artists(\n",
      "        artist_id           VARCHAR         NOT NULL SORTKEY PRIMARY KEY,\n",
      "        name                VARCHAR         NOT NULL,\n",
      "        location            VARCHAR,\n",
      "        latitude            FLOAT,\n",
      "        longitude           FLOAT\n",
      "    )\n",
      "\n",
      "creating the table with query: \n",
      "    CREATE TABLE time(\n",
      "        start_time          TIMESTAMP       NOT NULL DISTKEY SORTKEY PRIMARY KEY,\n",
      "        hour                INTEGER         NOT NULL,\n",
      "        day                 INTEGER         NOT NULL,\n",
      "        week                INTEGER         NOT NULL,\n",
      "        month               INTEGER         NOT NULL,\n",
      "        year                INTEGER         NOT NULL,\n",
      "        weekday             VARCHAR(20)     NOT NULL\n",
      "    )\n",
      "\n"
     ]
    }
   ],
   "source": [
    "%run create_tables.py"
   ]
  },
  {
   "cell_type": "code",
   "execution_count": 35,
   "metadata": {
    "editable": true
   },
   "outputs": [
    {
     "name": "stdout",
     "output_type": "stream",
     "text": [
      "staging the data: \n",
      "    copy staging_events from 's3://udacity-dend/log_data'\n",
      "    credentials 'aws_iam_role=arn:aws:iam::225210597203:role/myRedshiftRole'\n",
      "    region 'us-west-2' format as JSON 's3://udacity-dend/log_json_path.json'\n",
      "    timeformat as 'epochmillisecs';\n",
      "\n",
      "staging the data: \n",
      "    copy staging_songs from 's3://udacity-dend/song_data'\n",
      "    credentials 'aws_iam_role=arn:aws:iam::225210597203:role/myRedshiftRole'\n",
      "    region 'us-west-2' format as JSON 'auto';\n",
      "\n"
     ]
    },
    {
     "ename": "ProgrammingError",
     "evalue": "operator does not exist: character varying == \"unknown\"\nHINT:  No operator matches the given name and argument type(s). You may need to add explicit type casts.\n",
     "output_type": "error",
     "traceback": [
      "\u001b[0;31m---------------------------------------------------------------------------\u001b[0m",
      "\u001b[0;31mProgrammingError\u001b[0m                          Traceback (most recent call last)",
      "\u001b[0;32m/home/workspace/etl.py\u001b[0m in \u001b[0;36m<module>\u001b[0;34m()\u001b[0m\n\u001b[1;32m     33\u001b[0m \u001b[0;34m\u001b[0m\u001b[0m\n\u001b[1;32m     34\u001b[0m \u001b[0;32mif\u001b[0m \u001b[0m__name__\u001b[0m \u001b[0;34m==\u001b[0m \u001b[0;34m\"__main__\"\u001b[0m\u001b[0;34m:\u001b[0m\u001b[0;34m\u001b[0m\u001b[0m\n\u001b[0;32m---> 35\u001b[0;31m     \u001b[0mmain\u001b[0m\u001b[0;34m(\u001b[0m\u001b[0;34m)\u001b[0m\u001b[0;34m\u001b[0m\u001b[0m\n\u001b[0m",
      "\u001b[0;32m/home/workspace/etl.py\u001b[0m in \u001b[0;36mmain\u001b[0;34m()\u001b[0m\n\u001b[1;32m     27\u001b[0m \u001b[0;34m\u001b[0m\u001b[0m\n\u001b[1;32m     28\u001b[0m     \u001b[0mload_staging_tables\u001b[0m\u001b[0;34m(\u001b[0m\u001b[0mcur\u001b[0m\u001b[0;34m,\u001b[0m \u001b[0mconn\u001b[0m\u001b[0;34m)\u001b[0m\u001b[0;34m\u001b[0m\u001b[0m\n\u001b[0;32m---> 29\u001b[0;31m     \u001b[0minsert_tables\u001b[0m\u001b[0;34m(\u001b[0m\u001b[0mcur\u001b[0m\u001b[0;34m,\u001b[0m \u001b[0mconn\u001b[0m\u001b[0;34m)\u001b[0m\u001b[0;34m\u001b[0m\u001b[0m\n\u001b[0m\u001b[1;32m     30\u001b[0m \u001b[0;34m\u001b[0m\u001b[0m\n\u001b[1;32m     31\u001b[0m     \u001b[0mconn\u001b[0m\u001b[0;34m.\u001b[0m\u001b[0mclose\u001b[0m\u001b[0;34m(\u001b[0m\u001b[0;34m)\u001b[0m\u001b[0;34m\u001b[0m\u001b[0m\n",
      "\u001b[0;32m/home/workspace/etl.py\u001b[0m in \u001b[0;36minsert_tables\u001b[0;34m(cur, conn)\u001b[0m\n\u001b[1;32m     13\u001b[0m \u001b[0;32mdef\u001b[0m \u001b[0minsert_tables\u001b[0m\u001b[0;34m(\u001b[0m\u001b[0mcur\u001b[0m\u001b[0;34m,\u001b[0m \u001b[0mconn\u001b[0m\u001b[0;34m)\u001b[0m\u001b[0;34m:\u001b[0m\u001b[0;34m\u001b[0m\u001b[0m\n\u001b[1;32m     14\u001b[0m     \u001b[0;32mfor\u001b[0m \u001b[0mquery\u001b[0m \u001b[0;32min\u001b[0m \u001b[0minsert_table_queries\u001b[0m\u001b[0;34m:\u001b[0m\u001b[0;34m\u001b[0m\u001b[0m\n\u001b[0;32m---> 15\u001b[0;31m         \u001b[0mcur\u001b[0m\u001b[0;34m.\u001b[0m\u001b[0mexecute\u001b[0m\u001b[0;34m(\u001b[0m\u001b[0mquery\u001b[0m\u001b[0;34m)\u001b[0m\u001b[0;34m\u001b[0m\u001b[0m\n\u001b[0m\u001b[1;32m     16\u001b[0m         \u001b[0mprint\u001b[0m\u001b[0;34m(\u001b[0m\u001b[0;34m'inserting in table {}'\u001b[0m\u001b[0;34m.\u001b[0m\u001b[0mformat\u001b[0m\u001b[0;34m(\u001b[0m\u001b[0mquery\u001b[0m\u001b[0;34m)\u001b[0m\u001b[0;34m)\u001b[0m\u001b[0;34m\u001b[0m\u001b[0m\n\u001b[1;32m     17\u001b[0m         \u001b[0mconn\u001b[0m\u001b[0;34m.\u001b[0m\u001b[0mcommit\u001b[0m\u001b[0;34m(\u001b[0m\u001b[0;34m)\u001b[0m\u001b[0;34m\u001b[0m\u001b[0m\n",
      "\u001b[0;31mProgrammingError\u001b[0m: operator does not exist: character varying == \"unknown\"\nHINT:  No operator matches the given name and argument type(s). You may need to add explicit type casts.\n"
     ]
    }
   ],
   "source": [
    "%run etl.py"
   ]
  },
  {
   "cell_type": "code",
   "execution_count": 50,
   "metadata": {
    "editable": true
   },
   "outputs": [
    {
     "ename": "ImportError",
     "evalue": "cannot import name 'test_queries'",
     "output_type": "error",
     "traceback": [
      "\u001b[0;31m---------------------------------------------------------------------------\u001b[0m",
      "\u001b[0;31mImportError\u001b[0m                               Traceback (most recent call last)",
      "\u001b[0;32m/home/workspace/test.py\u001b[0m in \u001b[0;36m<module>\u001b[0;34m()\u001b[0m\n\u001b[1;32m      1\u001b[0m \u001b[0;32mimport\u001b[0m \u001b[0mconfigparser\u001b[0m\u001b[0;34m\u001b[0m\u001b[0m\n\u001b[1;32m      2\u001b[0m \u001b[0;32mimport\u001b[0m \u001b[0mpsycopg2\u001b[0m\u001b[0;34m\u001b[0m\u001b[0m\n\u001b[0;32m----> 3\u001b[0;31m \u001b[0;32mfrom\u001b[0m \u001b[0msql_queries\u001b[0m \u001b[0;32mimport\u001b[0m \u001b[0mtest_queries\u001b[0m\u001b[0;34m\u001b[0m\u001b[0m\n\u001b[0m\u001b[1;32m      4\u001b[0m \u001b[0;34m\u001b[0m\u001b[0m\n\u001b[1;32m      5\u001b[0m \u001b[0;34m\u001b[0m\u001b[0m\n",
      "\u001b[0;31mImportError\u001b[0m: cannot import name 'test_queries'"
     ]
    }
   ],
   "source": [
    "%run test.py"
   ]
  },
  {
   "cell_type": "code",
   "execution_count": null,
   "metadata": {
    "editable": true
   },
   "outputs": [],
   "source": []
  }
 ],
 "metadata": {
  "kernelspec": {
   "display_name": "Python 3",
   "language": "python",
   "name": "python3"
  },
  "language_info": {
   "codemirror_mode": {
    "name": "ipython",
    "version": 3
   },
   "file_extension": ".py",
   "mimetype": "text/x-python",
   "name": "python",
   "nbconvert_exporter": "python",
   "pygments_lexer": "ipython3",
   "version": "3.6.3"
  }
 },
 "nbformat": 4,
 "nbformat_minor": 4
}
