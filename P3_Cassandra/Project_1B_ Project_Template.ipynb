{
 "cells": [
  {
   "cell_type": "markdown",
   "metadata": {
    "editable": true
   },
   "source": [
    "# Part I. ETL Pipeline for Pre-Processing the Files"
   ]
  },
  {
   "cell_type": "markdown",
   "metadata": {
    "editable": true
   },
   "source": [
    "#### Importing Python packages "
   ]
  },
  {
   "cell_type": "code",
   "execution_count": 1,
   "metadata": {
    "editable": true
   },
   "outputs": [],
   "source": [
    "import pandas as pd\n",
    "import cassandra\n",
    "import re\n",
    "import os\n",
    "import glob\n",
    "import numpy as np\n",
    "import json\n",
    "import csv\n",
    "from decimal import Decimal\n",
    "from prettytable import PrettyTable"
   ]
  },
  {
   "cell_type": "markdown",
   "metadata": {
    "editable": true
   },
   "source": [
    "#### Creating list of filepaths to process original event csv data files"
   ]
  },
  {
   "cell_type": "code",
   "execution_count": 2,
   "metadata": {
    "editable": true
   },
   "outputs": [
    {
     "name": "stdout",
     "output_type": "stream",
     "text": [
      "Printing current working directory\n",
      "/home/workspace\n",
      "Getting filepath to the event data files\n",
      "Getting the list of all files path\n",
      "['/home/workspace/event_data/2018-11-30-events.csv', '/home/workspace/event_data/2018-11-23-events.csv', '/home/workspace/event_data/2018-11-22-events.csv', '/home/workspace/event_data/2018-11-29-events.csv', '/home/workspace/event_data/2018-11-11-events.csv', '/home/workspace/event_data/2018-11-14-events.csv', '/home/workspace/event_data/2018-11-20-events.csv', '/home/workspace/event_data/2018-11-15-events.csv', '/home/workspace/event_data/2018-11-05-events.csv', '/home/workspace/event_data/2018-11-28-events.csv', '/home/workspace/event_data/2018-11-25-events.csv', '/home/workspace/event_data/2018-11-16-events.csv', '/home/workspace/event_data/2018-11-18-events.csv', '/home/workspace/event_data/2018-11-24-events.csv', '/home/workspace/event_data/2018-11-04-events.csv', '/home/workspace/event_data/2018-11-19-events.csv', '/home/workspace/event_data/2018-11-26-events.csv', '/home/workspace/event_data/2018-11-12-events.csv', '/home/workspace/event_data/2018-11-27-events.csv', '/home/workspace/event_data/2018-11-06-events.csv', '/home/workspace/event_data/2018-11-09-events.csv', '/home/workspace/event_data/2018-11-03-events.csv', '/home/workspace/event_data/2018-11-21-events.csv', '/home/workspace/event_data/2018-11-07-events.csv', '/home/workspace/event_data/2018-11-01-events.csv', '/home/workspace/event_data/2018-11-13-events.csv', '/home/workspace/event_data/2018-11-17-events.csv', '/home/workspace/event_data/2018-11-08-events.csv', '/home/workspace/event_data/2018-11-10-events.csv', '/home/workspace/event_data/2018-11-02-events.csv']\n",
      "['/home/workspace/event_data/.ipynb_checkpoints/2018-11-11-events-checkpoint.csv', '/home/workspace/event_data/.ipynb_checkpoints/2018-11-05-events-checkpoint.csv', '/home/workspace/event_data/.ipynb_checkpoints/2018-11-03-events-checkpoint.csv', '/home/workspace/event_data/.ipynb_checkpoints/2018-11-02-events-checkpoint.csv', '/home/workspace/event_data/.ipynb_checkpoints/2018-11-04-events-checkpoint.csv', '/home/workspace/event_data/.ipynb_checkpoints/2018-11-01-events-checkpoint.csv', '/home/workspace/event_data/.ipynb_checkpoints/2018-11-12-events-checkpoint.csv', '/home/workspace/event_data/.ipynb_checkpoints/2018-11-07-events-checkpoint.csv', '/home/workspace/event_data/.ipynb_checkpoints/2018-11-09-events-checkpoint.csv']\n"
     ]
    }
   ],
   "source": [
    "print('Printing current working directory')\n",
    "print(os.getcwd())\n",
    "\n",
    "print('Getting filepath to the event data files')\n",
    "filepath = os.getcwd() + '/event_data'\n",
    "\n",
    "print('Getting the list of all files path')\n",
    "for root, dirs, files in os.walk(filepath):\n",
    "    file_path_list = glob.glob(os.path.join(root,'*'))\n",
    "    print(file_path_list)"
   ]
  },
  {
   "cell_type": "markdown",
   "metadata": {
    "editable": true
   },
   "source": [
    "#### Processing the files to create the data file csv that will be used for Apache Casssandra tables"
   ]
  },
  {
   "cell_type": "code",
   "execution_count": 3,
   "metadata": {
    "editable": true
   },
   "outputs": [
    {
     "name": "stdout",
     "output_type": "stream",
     "text": [
      "1687\n"
     ]
    }
   ],
   "source": [
    "full_data_rows_list = [] \n",
    "\n",
    "for f in file_path_list:\n",
    "\n",
    "# Reading csv file \n",
    "    with open(f, 'r', encoding = 'utf8', newline='') as csvfile: \n",
    "        # creating a csv reader object \n",
    "        csvreader = csv.reader(csvfile) \n",
    "        next(csvreader)\n",
    "        \n",
    " # Extracting each data row one by one and appending it        \n",
    "        for line in csvreader:\n",
    "            full_data_rows_list.append(line) \n",
    "print(len(full_data_rows_list))\n",
    "\n",
    "# Creating a smaller event data csv file called event_datafile_new csv that will be used to insert data\n",
    "csv.register_dialect('myDialect', quoting=csv.QUOTE_ALL, skipinitialspace=True)\n",
    "\n",
    "with open('event_datafile_new.csv', 'w', encoding = 'utf8', newline='') as f:\n",
    "    writer = csv.writer(f, dialect='myDialect')\n",
    "    writer.writerow(['artist','firstName','gender','itemInSession','lastName','length',\\\n",
    "                'level','location','sessionId','song','userId'])\n",
    "    for row in full_data_rows_list:\n",
    "        if (row[0] == ''):\n",
    "            continue\n",
    "        writer.writerow((row[0], row[2], row[3], row[4], row[5], row[6], row[7], row[8], row[12], row[13], row[16]))\n"
   ]
  },
  {
   "cell_type": "code",
   "execution_count": 4,
   "metadata": {
    "editable": true
   },
   "outputs": [
    {
     "name": "stdout",
     "output_type": "stream",
     "text": [
      "1432\n"
     ]
    }
   ],
   "source": [
    "# Checking the number of rows in csv file\n",
    "with open('event_datafile_new.csv', 'r', encoding = 'utf8') as f:\n",
    "    print(sum(1 for line in f))"
   ]
  },
  {
   "cell_type": "markdown",
   "metadata": {
    "editable": true
   },
   "source": [
    "# Part II. Completing the Apache Cassandra coding portion of this project. \n",
    "\n",
    "## The event_datafile_new.csv contains the following columns: \n",
    "- artist \n",
    "- firstName of user\n",
    "- gender of user\n",
    "- item number in session\n",
    "- last name of user\n",
    "- length of the song\n",
    "- level (paid or free song)\n",
    "- location of the user\n",
    "- sessionId\n",
    "- song title\n",
    "- userId\n",
    "\n",
    "The image below is a screenshot of what the denormalized data should appear like in the <font color=red>**event_datafile_new.csv**</font> after the code above is run:<br>\n",
    "\n",
    "<img src=\"images/image_event_datafile_new.jpg\">"
   ]
  },
  {
   "cell_type": "markdown",
   "metadata": {
    "editable": true
   },
   "source": [
    "## Apache Cassandra code"
   ]
  },
  {
   "cell_type": "markdown",
   "metadata": {
    "editable": true
   },
   "source": [
    "#### Creating a Cluster"
   ]
  },
  {
   "cell_type": "code",
   "execution_count": 5,
   "metadata": {
    "editable": true
   },
   "outputs": [],
   "source": [
    "# Making connection to Cassandra instance\n",
    "\n",
    "from cassandra.cluster import Cluster\n",
    "cluster = Cluster()\n",
    "\n",
    "# Getting session\n",
    "session = cluster.connect()"
   ]
  },
  {
   "cell_type": "markdown",
   "metadata": {
    "editable": true
   },
   "source": [
    "#### Creating Keyspace"
   ]
  },
  {
   "cell_type": "code",
   "execution_count": 6,
   "metadata": {
    "editable": true
   },
   "outputs": [],
   "source": [
    "\n",
    "try:\n",
    "    session.execute(\"\"\"\n",
    "    CREATE KEYSPACE IF NOT EXISTS sparkify \n",
    "    WITH REPLICATION = \n",
    "    { 'class' : 'SimpleStrategy', 'replication_factor' : 1 }\"\"\"\n",
    ")\n",
    "\n",
    "except Exception as e:\n",
    "    print(e)\n"
   ]
  },
  {
   "cell_type": "markdown",
   "metadata": {
    "editable": true
   },
   "source": [
    "#### Set Keyspace"
   ]
  },
  {
   "cell_type": "code",
   "execution_count": 7,
   "metadata": {
    "editable": true
   },
   "outputs": [],
   "source": [
    "try:\n",
    "    session.set_keyspace('sparkify')\n",
    "except Exception as e:\n",
    "    print(e)\n",
    "\n",
    "\n",
    "# Function to run query without any parameter\n",
    "def execute_query(query):\n",
    "    try:\n",
    "        return session.execute(query)\n",
    "    except Exception as e:\n",
    "        print(e)\n",
    "        \n",
    "        \n",
    "# Function to run query with parameters \n",
    "def execute_query_with_params(query, params):\n",
    "    try:\n",
    "        return session.execute(query, params)\n",
    "    except Exception as e:\n",
    "        print(e)"
   ]
  },
  {
   "cell_type": "markdown",
   "metadata": {
    "editable": true
   },
   "source": [
    "### Now we need to create tables to run the following queries. Remember, with Apache Cassandra we model the database tables on the queries we want to run."
   ]
  },
  {
   "cell_type": "markdown",
   "metadata": {
    "editable": true
   },
   "source": [
    "## Create queries to ask the following three questions of the data\n",
    "\n",
    "### 1. Give me the artist, song title and song's length in the music app history that was heard during  sessionId = 338, and itemInSession  = 4\n",
    "\n",
    "\n",
    "### 2. Give me only the following: name of artist, song (sorted by itemInSession) and user (first and last name) for userid = 10, sessionid = 182\n",
    "    \n",
    "\n",
    "### 3. Give me every user name (first and last) in my music app history who listened to the song 'All Hands Against His Own'\n",
    "\n",
    "\n"
   ]
  },
  {
   "cell_type": "markdown",
   "metadata": {
    "editable": true
   },
   "source": [
    "## Creating Table for Query 1\n",
    "\n",
    "#### Give me the artist, song title and song's length in the music app history that was heard during sessionId = 338, and itemInSession = 4"
   ]
  },
  {
   "cell_type": "markdown",
   "metadata": {
    "editable": true
   },
   "source": [
    "#### Since we want to run query which will filter based on sessionId and ItemInSession we would make sessionId as partition key and ItemInSession as Clustering column"
   ]
  },
  {
   "cell_type": "code",
   "execution_count": 8,
   "metadata": {
    "editable": true
   },
   "outputs": [
    {
     "data": {
      "text/plain": [
       "<cassandra.cluster.ResultSet at 0x7efdd8d54dd8>"
      ]
     },
     "execution_count": 8,
     "metadata": {},
     "output_type": "execute_result"
    }
   ],
   "source": [
    "\n",
    "execute_query(\"\"\"\n",
    "    CREATE TABLE IF NOT EXISTS session_library (\n",
    "        session_id int,\n",
    "        item_in_session int,\n",
    "        artist text,\n",
    "        song text,\n",
    "        song_length decimal,\n",
    "        PRIMARY KEY (session_id, item_in_session)\n",
    "    )\n",
    "\"\"\")\n",
    "\n",
    "                    "
   ]
  },
  {
   "cell_type": "markdown",
   "metadata": {
    "editable": true
   },
   "source": [
    "#### Checking the number of rows in the CSV file"
   ]
  },
  {
   "cell_type": "code",
   "execution_count": 9,
   "metadata": {
    "editable": true
   },
   "outputs": [
    {
     "name": "stdout",
     "output_type": "stream",
     "text": [
      "1432\n"
     ]
    }
   ],
   "source": [
    "with open('event_datafile_new.csv', 'r', encoding = 'utf8') as f:\n",
    "    print(sum(1 for line in f))"
   ]
  },
  {
   "cell_type": "markdown",
   "metadata": {
    "editable": true
   },
   "source": [
    "#### Inserting the data in session_library table for Query 1"
   ]
  },
  {
   "cell_type": "code",
   "execution_count": 10,
   "metadata": {
    "editable": true
   },
   "outputs": [],
   "source": [
    "\n",
    "file = 'event_datafile_new.csv'\n",
    "\n",
    "with open(file, encoding = 'utf8') as f:\n",
    "    csvreader = csv.reader(f)\n",
    "    next(csvreader) # skip header\n",
    "    for line in csvreader:\n",
    "        query = \"INSERT INTO session_library (session_id,item_in_session,artist,song,song_length)\"\n",
    "        query = query + \"values(%s,%s,%s,%s,%s)\"\n",
    "        session.execute(query, (int(line[8]),int(line[3]),line[0],line[9],Decimal(line[5])))"
   ]
  },
  {
   "cell_type": "markdown",
   "metadata": {
    "editable": true
   },
   "source": [
    "#### Verifying that the data have been inserted into session_library table for Query 1"
   ]
  },
  {
   "cell_type": "code",
   "execution_count": 11,
   "metadata": {
    "editable": true,
    "scrolled": true
   },
   "outputs": [
    {
     "name": "stdout",
     "output_type": "stream",
     "text": [
      "+------------------+-----------------------+---------------+---------------------------------+----------------------+\n",
      "| # Table1.Session | # Table1.Session Item | Table1.Artist |           Table1.Song           | Table1.Song Duration |\n",
      "+------------------+-----------------------+---------------+---------------------------------+----------------------+\n",
      "|       338        |           4           |   Faithless   | Music Matters (Mark Knight Dub) |       495.3073       |\n",
      "+------------------+-----------------------+---------------+---------------------------------+----------------------+\n"
     ]
    }
   ],
   "source": [
    "rows = execute_query(\"SELECT session_id, item_in_session, artist, song, song_length FROM session_library WHERE session_id = 338 AND item_in_session  = 4\")\n",
    "tb = PrettyTable(['# Table1.Session', '# Table1.Session Item', 'Table1.Artist', 'Table1.Song', 'Table1.Song Duration'])\n",
    "for row in rows:\n",
    "    tb.add_row([row.session_id, row.item_in_session, row.artist, row.song, row.song_length])\n",
    "print(tb)\n",
    "\n",
    "\n"
   ]
  },
  {
   "cell_type": "markdown",
   "metadata": {
    "editable": true
   },
   "source": [
    "## Creating Table for Query 2\n",
    "\n",
    "#### Give me only the following: name of artist, song (sorted by itemInSession) and user (first and last name) for userid = 10, sessionid = 182\n",
    "\n",
    "##### Since we want to filter query based on userid and session id, we would make userid and session id as partition key because we want different session of the same user to be distributed on the same node. We want the result to be sorted by itemInSession so we would make it as a Clustering column"
   ]
  },
  {
   "cell_type": "code",
   "execution_count": 12,
   "metadata": {
    "editable": true
   },
   "outputs": [
    {
     "data": {
      "text/plain": [
       "<cassandra.cluster.ResultSet at 0x7efdb9ccdbe0>"
      ]
     },
     "execution_count": 12,
     "metadata": {},
     "output_type": "execute_result"
    }
   ],
   "source": [
    "\n",
    "execute_query(\"\"\"\n",
    "    CREATE TABLE IF NOT EXISTS user_library (\n",
    "        user_id int, \n",
    "        session_id int,\n",
    "        item_in_session int,\n",
    "        artist text,\n",
    "        song text,\n",
    "        first_name text,\n",
    "        last_name text,\n",
    "        PRIMARY KEY ((user_id, session_id), item_in_session)\n",
    "    )\n",
    "\"\"\")\n",
    "                    "
   ]
  },
  {
   "cell_type": "markdown",
   "metadata": {
    "editable": true
   },
   "source": [
    "#### Inserting the data in user_library table for Query 2"
   ]
  },
  {
   "cell_type": "code",
   "execution_count": 13,
   "metadata": {
    "editable": true
   },
   "outputs": [],
   "source": [
    "\n",
    "\n",
    "file = 'event_datafile_new.csv'\n",
    "\n",
    "with open(file, encoding = 'utf8') as f:\n",
    "    csvreader = csv.reader(f)\n",
    "    next(csvreader) # skip header\n",
    "    for line in csvreader:\n",
    "        query = \"INSERT INTO user_library (user_id, session_id, item_in_session, artist, song, first_name, last_name)\"\n",
    "        query = query + \"VALUES (%s, %s, %s, %s, %s, %s, %s)\"\n",
    "        session.execute(query, (int(line[10]), int(line[8]), int(line[3]), line[0], line[9], line[1], line[4]))\n",
    "\n",
    "\n",
    "\n",
    "                    "
   ]
  },
  {
   "cell_type": "markdown",
   "metadata": {
    "editable": true
   },
   "source": [
    "#### Verifying that the data have been inserted into user_library table for Query 2"
   ]
  },
  {
   "cell_type": "code",
   "execution_count": 14,
   "metadata": {
    "editable": true
   },
   "outputs": [
    {
     "name": "stdout",
     "output_type": "stream",
     "text": [
      "+-----------------------+-------------------+------------------------------------------------------+---------------------+--------------------+\n",
      "| # Table2.Session Item |  # Table2.Artist  |                    # Table2.Song                     | # Table2.First Name | # Table2.Last Name |\n",
      "+-----------------------+-------------------+------------------------------------------------------+---------------------+--------------------+\n",
      "|           0           |  Down To The Bone |                  Keep On Keepin' On                  |        Sylvie       |        Cruz        |\n",
      "|           1           |    Three Drives   |                     Greece 2000                      |        Sylvie       |        Cruz        |\n",
      "|           2           | Sebastien Tellier |                      Kilometer                       |        Sylvie       |        Cruz        |\n",
      "|           3           |   Lonnie Gordon   | Catch You Baby (Steve Pitron & Max Sanna Radio Edit) |        Sylvie       |        Cruz        |\n",
      "+-----------------------+-------------------+------------------------------------------------------+---------------------+--------------------+\n"
     ]
    }
   ],
   "source": [
    "\n",
    "rows = execute_query(\"SELECT artist, song, first_name, last_name, item_in_session FROM user_library WHERE user_id = 10 AND session_id =182\")\n",
    "\n",
    "tb = PrettyTable(['# Table2.Session Item', '# Table2.Artist', '# Table2.Song', '# Table2.First Name', '# Table2.Last Name'])\n",
    "for row in rows:\n",
    "    tb.add_row([row.item_in_session, row.artist, row.song, row.first_name, row.last_name])\n",
    "print(tb)\n",
    "\n",
    "\n",
    "                    "
   ]
  },
  {
   "cell_type": "markdown",
   "metadata": {
    "editable": true
   },
   "source": [
    "## Creating Table for Query 3\n",
    "\n",
    "#### Give me every user name (first and last) in my music app history who listened to the song 'All Hands Against His Own'\n",
    "\n",
    "##### We will need to obtain (select) the user first name and lastname from out table, and we will need to filter by song name. As user name and lastname, in large datasets, are not unique, we will add the column userId to uniquely identify users."
   ]
  },
  {
   "cell_type": "code",
   "execution_count": 15,
   "metadata": {
    "editable": true
   },
   "outputs": [
    {
     "data": {
      "text/plain": [
       "<cassandra.cluster.ResultSet at 0x7efddf1019b0>"
      ]
     },
     "execution_count": 15,
     "metadata": {},
     "output_type": "execute_result"
    }
   ],
   "source": [
    "execute_query(\"\"\"\n",
    "    CREATE TABLE IF NOT EXISTS user_song_library (\n",
    "        user_id int, \n",
    "        song text,\n",
    "        artist text,\n",
    "        first_name text,\n",
    "        last_name text,\n",
    "        PRIMARY KEY (song, user_id)\n",
    "    )\n",
    "\"\"\")\n",
    "                    "
   ]
  },
  {
   "cell_type": "markdown",
   "metadata": {
    "editable": true
   },
   "source": [
    "#### Inserting the data in song_library table for Query 3"
   ]
  },
  {
   "cell_type": "code",
   "execution_count": 16,
   "metadata": {
    "editable": true
   },
   "outputs": [],
   "source": [
    "\n",
    "file = 'event_datafile_new.csv'\n",
    "\n",
    "with open(file, encoding = 'utf8') as f:\n",
    "    csvreader = csv.reader(f)\n",
    "    next(csvreader) # skip header\n",
    "    for line in csvreader:\n",
    "        query = \"INSERT INTO user_song_library (user_id, song, artist, first_name, last_name)\"\n",
    "        query = query + \"VALUES (%s, %s, %s, %s, %s)\"\n",
    "        queryParameters = (int(line[10]), line[9], line[0], line[1], line[4])\n",
    "        session.execute(query,queryParameters)"
   ]
  },
  {
   "cell_type": "markdown",
   "metadata": {
    "editable": true
   },
   "source": [
    "#### Verifying that the data have been inserted into song_library table for Query 3"
   ]
  },
  {
   "cell_type": "code",
   "execution_count": 17,
   "metadata": {
    "editable": true
   },
   "outputs": [
    {
     "name": "stdout",
     "output_type": "stream",
     "text": [
      "+---------------------+--------------------+---------------------------+----------------+\n",
      "| # Table3.First Name | # Table3.Last Name |      # Table3.Artist      | # Table3.Song  |\n",
      "+---------------------+--------------------+---------------------------+----------------+\n",
      "|         Sara        |      Johnson       | All Hands Against His Own | The Black Keys |\n",
      "+---------------------+--------------------+---------------------------+----------------+\n"
     ]
    }
   ],
   "source": [
    "rows = execute_query(\"SELECT first_name, last_name, song, artist FROM user_song_library WHERE song = 'All Hands Against His Own'\")\n",
    "\n",
    "t = PrettyTable(['# Table3.First Name', '# Table3.Last Name', '# Table3.Artist', '# Table3.Song'])\n",
    "for row in rows:\n",
    "    t.add_row([row.first_name, row.last_name, row.song, row.artist])\n",
    "print(t)"
   ]
  },
  {
   "cell_type": "markdown",
   "metadata": {
    "editable": true
   },
   "source": [
    "### Dropping the tables before closing out the sessions"
   ]
  },
  {
   "cell_type": "code",
   "execution_count": 18,
   "metadata": {
    "editable": true
   },
   "outputs": [
    {
     "data": {
      "text/plain": [
       "<cassandra.cluster.ResultSet at 0x7efddf1afe80>"
      ]
     },
     "execution_count": 18,
     "metadata": {},
     "output_type": "execute_result"
    }
   ],
   "source": [
    "execute_query(\"drop table user_library\")\n",
    "execute_query(\"drop table session_library\")\n",
    "execute_query(\"drop table user_song_library\")"
   ]
  },
  {
   "cell_type": "markdown",
   "metadata": {
    "editable": true
   },
   "source": [
    "### Closing the session and cluster connection¶"
   ]
  },
  {
   "cell_type": "code",
   "execution_count": 19,
   "metadata": {
    "editable": true
   },
   "outputs": [],
   "source": [
    "session.shutdown()\n",
    "cluster.shutdown()"
   ]
  },
  {
   "cell_type": "code",
   "execution_count": null,
   "metadata": {
    "editable": true
   },
   "outputs": [],
   "source": []
  }
 ],
 "metadata": {
  "kernelspec": {
   "display_name": "Python 3",
   "language": "python",
   "name": "python3"
  },
  "language_info": {
   "codemirror_mode": {
    "name": "ipython",
    "version": 3
   },
   "file_extension": ".py",
   "mimetype": "text/x-python",
   "name": "python",
   "nbconvert_exporter": "python",
   "pygments_lexer": "ipython3",
   "version": "3.6.3"
  }
 },
 "nbformat": 4,
 "nbformat_minor": 4
}
